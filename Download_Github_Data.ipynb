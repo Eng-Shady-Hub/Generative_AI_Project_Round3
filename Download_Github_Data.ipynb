{
  "nbformat": 4,
  "nbformat_minor": 0,
  "metadata": {
    "colab": {
      "provenance": []
    },
    "kernelspec": {
      "name": "python3",
      "display_name": "Python 3"
    },
    "language_info": {
      "name": "python"
    }
  },
  "cells": [
    {
      "cell_type": "code",
      "execution_count": null,
      "metadata": {
        "id": "cc5eab9f",
        "outputId": "ba0a368d-3ecc-4764-8e9b-790aa7139119",
        "colab": {
          "base_uri": "https://localhost:8080/"
        }
      },
      "outputs": [
        {
          "output_type": "stream",
          "name": "stdout",
          "text": [
            "Requirement already satisfied: openpyxl in /usr/local/lib/python3.12/dist-packages (3.1.5)\n",
            "Requirement already satisfied: et-xmlfile in /usr/local/lib/python3.12/dist-packages (from openpyxl) (2.0.0)\n"
          ]
        }
      ],
      "source": [
        "!pip install openpyxl\n"
      ]
    },
    {
      "cell_type": "code",
      "execution_count": null,
      "metadata": {
        "id": "06d3d702"
      },
      "outputs": [],
      "source": [
        "import requests\n",
        "import zipfile\n",
        "import io\n",
        "import os\n",
        "import numpy as np\n",
        "import pandas as pd"
      ]
    },
    {
      "cell_type": "code",
      "execution_count": null,
      "metadata": {
        "id": "d19ab116"
      },
      "outputs": [],
      "source": [
        "### Download Data From Github\n",
        "zip_url = 'https://raw.githubusercontent.com/Eng-Shady-Hub/Generative_AI_Project_Round3/refs/heads/main/All_Datasets.zip'\n",
        "response = requests.get(zip_url)\n",
        "response.raise_for_status()\n",
        "\n",
        "\n"
      ]
    },
    {
      "cell_type": "code",
      "execution_count": null,
      "metadata": {
        "colab": {
          "base_uri": "https://localhost:8080/"
        },
        "id": "42c2e833",
        "outputId": "1673db45-da6b-4f29-f840-49251a91da10"
      },
      "outputs": [
        {
          "output_type": "stream",
          "name": "stdout",
          "text": [
            "1\n",
            "DataFrame  df1 has been created successfully from file 1-BigBasket Products.csv\n",
            "2\n",
            "DataFrame  df2 has been created successfully from file 2-Adidas Vs Nike.csv\n",
            "3\n",
            "DataFrame  df3 has been created successfully from file 3-amazon.csv\n",
            "4\n",
            "DataFrame  df4 has been created successfully from file 4-flipkart_fashion_products_dataset.csv\n",
            "5\n",
            "DataFrame  df5 has been created successfully from file 5-adidas_usa.csv\n",
            "6\n",
            "DataFrame  df6 has been created successfully from file 6-electronics_products_full_edit.csv\n"
          ]
        }
      ],
      "source": [
        "with zipfile.ZipFile(io.BytesIO(response.content)) as z:\n",
        "\n",
        "    csv_files = [f for f in z.namelist() if f.endswith(\".csv\")]\n",
        "\n",
        "    if not csv_files:\n",
        "        print('No CSV_Files')\n",
        "    else:\n",
        "        for i, file_name in enumerate(csv_files, start=1):\n",
        "            print (i)\n",
        "            with z.open(file_name) as f:\n",
        "                globals()[f\"df{i}\"] = pd.read_csv(f)\n",
        "                print(f'DataFrame  df{i} has been created successfully from file {file_name}')\n",
        "                # print(globals()[f\"df{i}\"].shape)\n",
        "                # print(globals()[f\"df{i}\"].head())\n",
        "                # print(globals()[f\"df{i}\"].info())"
      ]
    }
  ]
}